{
 "cells": [
  {
   "cell_type": "markdown",
   "metadata": {},
   "source": [
    "Load the RDF data dump"
   ]
  },
  {
   "cell_type": "code",
   "execution_count": 29,
   "metadata": {},
   "outputs": [
    {
     "name": "stdout",
     "output_type": "stream",
     "text": [
      "8869 triples in Biii data graph\n"
     ]
    }
   ],
   "source": [
    "from rdflib import ConjunctiveGraph\n",
    "\n",
    "ns = {\"nb\": \"http://bise-eu.info/core-ontology#\",\n",
    "      \"dc\": \"http://dcterms/\",\n",
    "      \"p-plan\": \"http://purl.org/net/p-plan#\",\n",
    "      \"edam\": \"http://purl.obolibrary.org/obo/edam#\"}\n",
    "\n",
    "g = ConjunctiveGraph()\n",
    "#g.parse(\"bise-linked-data-webapp/static/data/neubias-dump-20180129.ttl\", format=\"turtle\")\n",
    "g.parse(\"data-dumps/latest/neubias-latest.ttl\", format=\"turtle\")\n",
    "g.parse(\"bise-linked-data-webapp/static/data/EDAM-bioimaging_alpha03.owl\")\n",
    "print(str(len(g)) + ' triples in Biii data graph')"
   ]
  },
  {
   "cell_type": "code",
   "execution_count": 30,
   "metadata": {},
   "outputs": [
    {
     "name": "stdout",
     "output_type": "stream",
     "text": [
      "Fluorescence microscopy : 33\n",
      "Bioimage informatics : 31\n",
      "Digital histology : 24\n",
      "Machine learning : 19\n",
      "Imaging : 14\n",
      "Microscopy : 11\n",
      "Electron microscopy : 11\n",
      "Confocal microscopy : 11\n",
      "High content screening : 10\n",
      "Light microscopy : 10\n",
      "Bright field microscopy : 8\n",
      "Super-resolution microscopy : 8\n",
      "Light-sheet microscopy : 8\n",
      "Data sharing : 8\n",
      "Confocal fluorescence microscopy : 7\n",
      "Statistics : 7\n",
      "Magnetic resonance imaging : 5\n",
      "Phase contrast microscopy : 5\n",
      "Structured illumination microscopy : 4\n",
      "Single molecule localization microscopy : 4\n",
      "Correlative Light and Electron Microscopy : 4\n",
      "Topic : 3\n",
      "Electron tomography : 2\n",
      "Scanning electron microscopy : 2\n",
      "Tomography : 2\n",
      "Multi-photon microscopy : 2\n",
      "Widefield microscopy : 2\n",
      "In-silico reconstruction : 2\n",
      "Cryo electron tomography : 1\n",
      "Serial block-face scanning electron microscopy : 1\n",
      "Focused ion beam scanning electron microscopy : 1\n",
      "Live sample imaging : 1\n",
      "Spectroscopy : 1\n",
      "In-vitro imaging : 1\n",
      "Computerized tomography : 1\n"
     ]
    }
   ],
   "source": [
    "q = \"\"\"\n",
    "SELECT ?label (count(distinct ?s1) as ?soft_count) WHERE { \n",
    "    ?s1 a <http://biii.eu/node/software> .\n",
    "    ?s1 <http://bise-eu.info/core-ontology#hasTopic> ?edam_class .\n",
    "    ?edam_class rdfs:label ?label\n",
    "}\n",
    "GROUP BY ?edam_class ?label\n",
    "ORDER BY DESC(?soft_count)\n",
    "\"\"\"\n",
    "\n",
    "results = g.query(q, initNs=ns)\n",
    "\n",
    "for r in results:\n",
    "    print (r[\"label\"] + \" : \" + r[\"soft_count\"])"
   ]
  },
  {
   "cell_type": "markdown",
   "metadata": {},
   "source": [
    "## Count the number of tools without any reference publication"
   ]
  },
  {
   "cell_type": "code",
   "execution_count": 50,
   "metadata": {},
   "outputs": [
    {
     "name": "stdout",
     "output_type": "stream",
     "text": [
      "1026\n"
     ]
    }
   ],
   "source": [
    "no_doi_query = \"\"\"\n",
    "SELECT ?s (count(?title) as ?nb_soft) WHERE {\n",
    "    ?s rdf:type <http://biii.eu/node/software> .\n",
    "    ?s dc:title ?title .\n",
    "    FILTER NOT EXISTS {?s nb:hasReferencePublication ?publication} .\n",
    "}\n",
    "\"\"\"\n",
    "results = g.query(no_doi_query, initNs=ns)\n",
    "for r in results:\n",
    "    print(r[\"nb_soft\"])"
   ]
  },
  {
   "cell_type": "markdown",
   "metadata": {},
   "source": [
    "## Count the number of tools with a reference publication"
   ]
  },
  {
   "cell_type": "code",
   "execution_count": 51,
   "metadata": {},
   "outputs": [
    {
     "name": "stdout",
     "output_type": "stream",
     "text": [
      "330\n"
     ]
    }
   ],
   "source": [
    "doi_query = \"\"\"\n",
    "SELECT ?s (count(?title) as ?nb_soft) WHERE {\n",
    "    ?s rdf:type <http://biii.eu/node/software> .\n",
    "    ?s dc:title ?title .\n",
    "    ?s nb:hasReferencePublication ?publication .\n",
    "}\n",
    "\"\"\"\n",
    "results = g.query(doi_query, initNs=ns)\n",
    "for r in results:\n",
    "    print(r[\"nb_soft\"])"
   ]
  },
  {
   "cell_type": "code",
   "execution_count": 53,
   "metadata": {},
   "outputs": [
    {
     "name": "stdout",
     "output_type": "stream",
     "text": [
      "Fluorescence microscopy : 33\n",
      "Bioimage informatics : 31\n",
      "Digital histology : 24\n",
      "Machine learning : 19\n",
      "Imaging : 14\n",
      "Microscopy : 11\n",
      "Electron microscopy : 11\n",
      "Confocal microscopy : 11\n",
      "High content screening : 10\n",
      "Light microscopy : 10\n",
      "Bright field microscopy : 8\n",
      "Super-resolution microscopy : 8\n",
      "Light-sheet microscopy : 8\n",
      "Data sharing : 8\n",
      "Confocal fluorescence microscopy : 7\n",
      "Statistics : 7\n",
      "Magnetic resonance imaging : 5\n",
      "Phase contrast microscopy : 5\n",
      "Structured illumination microscopy : 4\n",
      "Single molecule localization microscopy : 4\n",
      "Correlative Light and Electron Microscopy : 4\n",
      "Topic : 3\n",
      "Electron tomography : 2\n",
      "Scanning electron microscopy : 2\n",
      "Tomography : 2\n",
      "Multi-photon microscopy : 2\n",
      "Widefield microscopy : 2\n",
      "In-silico reconstruction : 2\n",
      "Cryo electron tomography : 1\n",
      "Serial block-face scanning electron microscopy : 1\n",
      "Focused ion beam scanning electron microscopy : 1\n",
      "Live sample imaging : 1\n",
      "Spectroscopy : 1\n",
      "In-vitro imaging : 1\n",
      "Computerized tomography : 1\n"
     ]
    }
   ],
   "source": [
    "how_many_tools_per_topic = \"\"\"\n",
    "SELECT ?label (count(distinct ?s1) as ?soft_count) WHERE { \n",
    "    ?s1 a <http://biii.eu/node/software> .\n",
    "    ?s1 <http://bise-eu.info/core-ontology#hasTopic> ?edam_class .\n",
    "        \n",
    "    ?edam_class rdfs:label ?label .\n",
    "}\n",
    "GROUP BY ?edam_class ?label\n",
    "ORDER BY DESC(?soft_count)\n",
    "\"\"\"\n",
    "\n",
    "results = g.query(how_many_tools_per_topic, initNs=ns)\n",
    "for r in results:\n",
    "    print(r[\"label\"] + \" : \" + r[\"soft_count\"])"
   ]
  },
  {
   "cell_type": "code",
   "execution_count": 55,
   "metadata": {},
   "outputs": [
    {
     "name": "stdout",
     "output_type": "stream",
     "text": [
      "Image segmentation : 51\n",
      "Object tracking : 28\n",
      "Image registration : 25\n",
      "Cell segmentation : 25\n",
      "Filament tracing : 25\n",
      "Neuron image analysis : 21\n",
      "Spot detection : 19\n",
      "Image analysis : 17\n",
      "Visualisation : 14\n",
      "Image thresholding : 13\n",
      "Image deconvolution : 13\n",
      "Affine registration : 12\n",
      "Object counting : 12\n",
      "Cell tracking : 12\n",
      "Shape features : 11\n",
      "Image enhancement : 11\n",
      "Morphological operation : 11\n",
      "Rigid registration : 11\n",
      "Isolated object classification : 10\n",
      "Data handling : 10\n",
      "Deformable registration : 8\n",
      "Active contours : 8\n",
      "Pixel classification : 8\n",
      "Object feature extraction : 8\n",
      "Watershed : 8\n",
      "Image processing : 8\n",
      "Image denoising : 7\n",
      "Interactive segmentation : 7\n",
      "Object-based colocalisation : 7\n",
      "Isolated object detection : 6\n",
      "Alignment construction : 6\n",
      "Affine : 6\n",
      "Object detection : 6\n",
      "Image visualisation : 6\n",
      "Smoothing : 6\n",
      "Volume rendering : 5\n",
      "Drift correction : 5\n",
      "Illumination correction : 5\n",
      "Image classification : 5\n",
      "Particle tracking : 4\n",
      "Chromatic aberration correction : 4\n",
      "Selective plane illumination microscopy reconstruction : 4\n",
      "Image stitching : 4\n",
      "Plotting : 4\n",
      "Distance transform : 4\n",
      "Image reconstruction : 3\n",
      "Image projection : 3\n",
      "Classification : 3\n",
      "Single molecule localisation : 3\n",
      "Geometrical transform : 3\n",
      "Warping : 3\n",
      "Image correction : 3\n",
      "Skeletonisation : 3\n",
      "Montage : 3\n",
      "Rotation : 2\n",
      "Adaptative thresholding : 2\n",
      "Editing : 2\n",
      "Frequency analysis : 2\n",
      "Geometric distortion correction : 2\n",
      "Isolated object tracking : 2\n",
      "Conversion : 2\n",
      "Closing : 2\n",
      "Pattern recognition : 2\n",
      "Spectral unmixing : 2\n",
      "Synthetic image generation : 2\n",
      "Object registration : 1\n",
      "Prediction and recognition : 1\n",
      "Collective object tracking : 1\n",
      "Dilation : 1\n",
      "Tomography reconstruction : 1\n",
      "Texture extraction : 1\n",
      "Overlay : 1\n",
      "Image generation : 1\n",
      "Optical flow analysis : 1\n",
      "Image crop : 1\n"
     ]
    }
   ],
   "source": [
    "how_many_tools_per_operation = \"\"\"\n",
    "SELECT ?label (count(distinct ?s1) as ?soft_count) WHERE { \n",
    "    ?s1 a <http://biii.eu/node/software> .\n",
    "    ?s1 <http://bise-eu.info/core-ontology#hasFunction> ?edam_class .\n",
    "        \n",
    "    ?edam_class rdfs:label ?label .\n",
    "}\n",
    "GROUP BY ?edam_class ?label\n",
    "ORDER BY DESC(?soft_count)\n",
    "\"\"\"\n",
    "\n",
    "results = g.query(how_many_tools_per_operation, initNs=ns)\n",
    "for r in results:\n",
    "    print(r[\"label\"] + \" : \" + r[\"soft_count\"])"
   ]
  },
  {
   "cell_type": "code",
   "execution_count": null,
   "metadata": {},
   "outputs": [],
   "source": []
  }
 ],
 "metadata": {
  "kernelspec": {
   "display_name": "Python 3",
   "language": "python",
   "name": "python3"
  },
  "language_info": {
   "codemirror_mode": {
    "name": "ipython",
    "version": 3
   },
   "file_extension": ".py",
   "mimetype": "text/x-python",
   "name": "python",
   "nbconvert_exporter": "python",
   "pygments_lexer": "ipython3",
   "version": "3.6.6"
  }
 },
 "nbformat": 4,
 "nbformat_minor": 2
}

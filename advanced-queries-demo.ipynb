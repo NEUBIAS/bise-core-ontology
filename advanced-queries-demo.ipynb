{
 "cells": [
  {
   "cell_type": "markdown",
   "metadata": {},
   "source": [
    "Load the RDF data dump"
   ]
  },
  {
   "cell_type": "code",
   "execution_count": 1,
   "metadata": {
    "collapsed": false
   },
   "outputs": [
    {
     "name": "stdout",
     "output_type": "stream",
     "text": [
      "14494 triples in Biii data graph\n",
      "CPU times: user 1.25 s, sys: 229 ms, total: 1.48 s\n",
      "Wall time: 2.79 s\n"
     ]
    }
   ],
   "source": [
    "%%time\n",
    "from rdflib import ConjunctiveGraph\n",
    "\n",
    "ns = {\"nb\": \"http://bise-eu.info/core-ontology#\",\n",
    "      \"dc\": \"http://dcterms/\",\n",
    "      \"p-plan\": \"http://purl.org/net/p-plan#\",\n",
    "      \"edam\": \"http://purl.obolibrary.org/obo/edam#\"}\n",
    "\n",
    "g = ConjunctiveGraph()\n",
    "#g.parse(\"bise-linked-data-webapp/static/data/neubias-dump-20180129.ttl\", format=\"turtle\")\n",
    "#g.parse(\"data-dumps/latest/neubias-latest.ttl\", format=\"turtle\")\n",
    "\n",
    "### latest version of the RDF dataset dump\n",
    "g.parse(\"https://github.com/NeuBIAS/bise-core-ontology/raw/master/data-dumps/latest/neubias-latest.ttl\", format=\"turtle\")\n",
    "g.parse(\"bise-linked-data-webapp/static/data/EDAM-bioimaging_alpha03.owl\")\n",
    "print(str(len(g)) + ' triples in Biii data graph')"
   ]
  },
  {
   "cell_type": "markdown",
   "metadata": {},
   "source": [
    "# Critical Entries +++"
   ]
  },
  {
   "cell_type": "code",
   "execution_count": 2,
   "metadata": {
    "collapsed": false
   },
   "outputs": [
    {
     "name": "stdout",
     "output_type": "stream",
     "text": [
      "No author and no download link: 72\n",
      "Missing authors or download link: 823\n",
      "No EDAM annotations: 867\n",
      "No License (free text): 1326\n",
      "CPU times: user 2.84 s, sys: 27.5 ms, total: 2.87 s\n",
      "Wall time: 2.89 s\n"
     ]
    }
   ],
   "source": [
    "%%time\n",
    "# Entries without authors and without download link\n",
    "q = \"\"\"\n",
    "SELECT (count(?s) as ?nb_soft) WHERE {\n",
    "    ?s rdf:type <http://biii.eu/node/software> .\n",
    "    FILTER ( NOT EXISTS {?s nb:hasAuthor ?author} \n",
    "          && NOT EXISTS {?s nb:hasLocation ?location} ).\n",
    "}\n",
    "\"\"\"\n",
    "no_authors_no_link = \"\"\n",
    "results = g.query(q, initNs=ns)\n",
    "for r in results:\n",
    "    print('No author and no download link: ' + str(r[\"nb_soft\"]))\n",
    "    no_authors_no_link = r[\"nb_soft\"]\n",
    "\n",
    "    \n",
    "# Entries with missing authors or download link\n",
    "q = \"\"\"\n",
    "SELECT (count(?s) as ?nb_soft) WHERE {\n",
    "    ?s rdf:type <http://biii.eu/node/software> .\n",
    "    FILTER ( NOT EXISTS {?s nb:hasAuthor ?author} \n",
    "          || NOT EXISTS {?s nb:hasLocation ?location} ).\n",
    "}\n",
    "\"\"\"\n",
    "no_authors_no_link = \"\"\n",
    "results = g.query(q, initNs=ns)\n",
    "for r in results:\n",
    "    print('Missing authors or download link: ' + str(r[\"nb_soft\"]))\n",
    "    no_authors_no_link = r[\"nb_soft\"]\n",
    "    \n",
    "\n",
    "# Entries without any EDAM operation\n",
    "q = \"\"\"\n",
    "SELECT (count(?s) as ?nb_soft) WHERE {\n",
    "    ?s rdf:type <http://biii.eu/node/software> .\n",
    "    FILTER ( NOT EXISTS {?s nb:hasFunction ?function} \n",
    "          && NOT EXISTS {?s nb:hasTopic ?topic} ).\n",
    "}\n",
    "\"\"\"\n",
    "no_EDAM = \"\"\n",
    "results = g.query(q, initNs=ns)\n",
    "for r in results:\n",
    "    print('No EDAM annotations: ' + str(r[\"nb_soft\"]))\n",
    "    no_EDAM = r[\"nb_soft\"]\n",
    "\n",
    "    \n",
    "# Entries without license\n",
    "q = \"\"\"\n",
    "SELECT (count(?s) as ?nb_soft) WHERE {\n",
    "    ?s rdf:type <http://biii.eu/node/software> .\n",
    "    FILTER ( NOT EXISTS {?s nb:hasLicense ?license} ).\n",
    "}\n",
    "\"\"\"\n",
    "no_License = \"\"\n",
    "results = g.query(q, initNs=ns)\n",
    "for r in results:\n",
    "    print('No License (free text): ' + str(r[\"nb_soft\"]))\n",
    "    no_License = r[\"nb_soft\"]"
   ]
  },
  {
   "cell_type": "code",
   "execution_count": 3,
   "metadata": {
    "collapsed": false
   },
   "outputs": [
    {
     "name": "stdout",
     "output_type": "stream",
     "text": [
      "Bioimage informatics : 81\n",
      "Fluorescence microscopy : 56\n",
      "Machine learning : 36\n",
      "Digital histology : 28\n",
      "Microscopy : 23\n",
      "Electron microscopy : 17\n",
      "Light-sheet microscopy : 17\n",
      "Imaging : 16\n",
      "High content screening : 15\n",
      "Statistics : 15\n",
      "Confocal microscopy : 14\n",
      "Super-resolution microscopy : 14\n",
      "Light microscopy : 13\n",
      "Single molecule localization microscopy : 12\n",
      "Data sharing : 11\n",
      "Bright field microscopy : 10\n",
      "Confocal fluorescence microscopy : 10\n",
      "Phase contrast microscopy : 8\n",
      "Magnetic resonance imaging : 6\n",
      "Widefield microscopy : 5\n",
      "Structured illumination microscopy : 5\n",
      "Tomography : 4\n",
      "Correlative Light and Electron Microscopy : 4\n",
      "In-silico reconstruction : 3\n",
      "Computerized tomography : 3\n",
      "Topic : 3\n",
      "Live sample imaging : 3\n",
      "Electron tomography : 2\n",
      "Multi-photon microscopy : 2\n",
      "Spectroscopy : 2\n",
      "Scanning electron microscopy : 2\n",
      "Focused ion beam scanning electron microscopy : 1\n",
      "Image correlation spectroscopy : 1\n",
      "Fluctuation based microscopy : 1\n",
      "In-vitro imaging : 1\n",
      "Cryo electron tomography : 1\n",
      "Fluorescence lifetime imaging microscopy : 1\n",
      "Fluorescence correlative spectroscopy : 1\n",
      "In-vivo imaging : 1\n",
      "Point-scanning microscopy : 1\n",
      "Serial block-face scanning electron microscopy : 1\n",
      "CPU times: user 122 ms, sys: 3.4 ms, total: 125 ms\n",
      "Wall time: 124 ms\n"
     ]
    }
   ],
   "source": [
    "%%time\n",
    "q = \"\"\"\n",
    "SELECT ?label (count(distinct ?s1) as ?soft_count) WHERE { \n",
    "    ?s1 a <http://biii.eu/node/software> .\n",
    "    ?s1 <http://bise-eu.info/core-ontology#hasTopic> ?edam_class .\n",
    "    ?edam_class rdfs:label ?label\n",
    "}\n",
    "GROUP BY ?edam_class ?label\n",
    "ORDER BY DESC(?soft_count)\n",
    "\"\"\"\n",
    "\n",
    "results = g.query(q, initNs=ns)\n",
    "\n",
    "for r in results:\n",
    "    print (r[\"label\"] + \" : \" + r[\"soft_count\"])"
   ]
  },
  {
   "cell_type": "markdown",
   "metadata": {},
   "source": [
    "## Count the number of tools without any reference publication"
   ]
  },
  {
   "cell_type": "code",
   "execution_count": 4,
   "metadata": {
    "collapsed": false
   },
   "outputs": [
    {
     "name": "stdout",
     "output_type": "stream",
     "text": [
      "CPU times: user 1 µs, sys: 1 µs, total: 2 µs\n",
      "Wall time: 5.01 µs\n",
      "1072\n"
     ]
    }
   ],
   "source": [
    "%time\n",
    "no_doi_query = \"\"\"\n",
    "SELECT ?s (count(?title) as ?nb_soft) WHERE {\n",
    "    ?s rdf:type <http://biii.eu/node/software> .\n",
    "    ?s dc:title ?title .\n",
    "    FILTER NOT EXISTS {?s nb:hasReferencePublication ?publication} .\n",
    "}\n",
    "\"\"\"\n",
    "results = g.query(no_doi_query, initNs=ns)\n",
    "for r in results:\n",
    "    print(r[\"nb_soft\"])"
   ]
  },
  {
   "cell_type": "markdown",
   "metadata": {},
   "source": [
    "## Count the number of tools with a reference publication"
   ]
  },
  {
   "cell_type": "code",
   "execution_count": 5,
   "metadata": {
    "collapsed": false
   },
   "outputs": [
    {
     "name": "stdout",
     "output_type": "stream",
     "text": [
      "485\n",
      "CPU times: user 98.6 ms, sys: 1.56 ms, total: 100 ms\n",
      "Wall time: 99.4 ms\n"
     ]
    }
   ],
   "source": [
    "%%time\n",
    "doi_query = \"\"\"\n",
    "SELECT ?s (count(?title) as ?nb_soft) WHERE {\n",
    "    ?s rdf:type <http://biii.eu/node/software> .\n",
    "    ?s dc:title ?title .\n",
    "    ?s nb:hasReferencePublication ?publication .\n",
    "}\n",
    "\"\"\"\n",
    "results = g.query(doi_query, initNs=ns)\n",
    "for r in results:\n",
    "    print(r[\"nb_soft\"])"
   ]
  },
  {
   "cell_type": "code",
   "execution_count": 6,
   "metadata": {
    "collapsed": false,
    "scrolled": false
   },
   "outputs": [
    {
     "name": "stdout",
     "output_type": "stream",
     "text": [
      "Bioimage informatics : 81\n",
      "Fluorescence microscopy : 56\n",
      "Machine learning : 36\n",
      "Digital histology : 28\n",
      "Microscopy : 23\n",
      "Electron microscopy : 17\n",
      "Light-sheet microscopy : 17\n",
      "Imaging : 16\n",
      "High content screening : 15\n",
      "Statistics : 15\n",
      "Confocal microscopy : 14\n",
      "Super-resolution microscopy : 14\n",
      "Light microscopy : 13\n",
      "Single molecule localization microscopy : 12\n",
      "Data sharing : 11\n",
      "Bright field microscopy : 10\n",
      "Confocal fluorescence microscopy : 10\n",
      "Phase contrast microscopy : 8\n",
      "Magnetic resonance imaging : 6\n",
      "Widefield microscopy : 5\n",
      "Structured illumination microscopy : 5\n",
      "Tomography : 4\n",
      "Correlative Light and Electron Microscopy : 4\n",
      "In-silico reconstruction : 3\n",
      "Computerized tomography : 3\n",
      "Topic : 3\n",
      "Live sample imaging : 3\n",
      "Electron tomography : 2\n",
      "Multi-photon microscopy : 2\n",
      "Spectroscopy : 2\n",
      "Scanning electron microscopy : 2\n",
      "Focused ion beam scanning electron microscopy : 1\n",
      "Image correlation spectroscopy : 1\n",
      "Fluctuation based microscopy : 1\n",
      "In-vitro imaging : 1\n",
      "Cryo electron tomography : 1\n",
      "Fluorescence lifetime imaging microscopy : 1\n",
      "Fluorescence correlative spectroscopy : 1\n",
      "In-vivo imaging : 1\n",
      "Point-scanning microscopy : 1\n",
      "Serial block-face scanning electron microscopy : 1\n",
      "CPU times: user 152 ms, sys: 3.73 ms, total: 155 ms\n",
      "Wall time: 154 ms\n"
     ]
    }
   ],
   "source": [
    "%%time\n",
    "how_many_tools_per_topic = \"\"\"\n",
    "SELECT ?label (count(distinct ?s1) as ?soft_count) WHERE { \n",
    "    ?s1 a <http://biii.eu/node/software> .\n",
    "    ?s1 <http://bise-eu.info/core-ontology#hasTopic> ?edam_class .\n",
    "        \n",
    "    ?edam_class rdfs:label ?label .\n",
    "}\n",
    "GROUP BY ?edam_class ?label\n",
    "ORDER BY DESC(?soft_count)\n",
    "\"\"\"\n",
    "\n",
    "results = g.query(how_many_tools_per_topic, initNs=ns)\n",
    "for r in results:\n",
    "    print(r[\"label\"] + \" : \" + r[\"soft_count\"])"
   ]
  },
  {
   "cell_type": "code",
   "execution_count": 7,
   "metadata": {
    "collapsed": false
   },
   "outputs": [
    {
     "name": "stdout",
     "output_type": "stream",
     "text": [
      "Image segmentation : 75\n",
      "Cell segmentation : 35\n",
      "Image registration : 33\n",
      "Object tracking : 33\n",
      "Filament tracing : 32\n",
      "Spot detection : 30\n",
      "Visualisation : 30\n",
      "Image analysis : 28\n",
      "Image processing : 26\n",
      "Analysis : 24\n",
      "Image visualisation : 24\n",
      "Neuron image analysis : 23\n",
      "Morphological operation : 21\n",
      "Image deconvolution : 19\n",
      "Colocalisation analysis : 18\n",
      "Object detection : 17\n",
      "Shape features : 16\n",
      "Object counting : 16\n",
      "Image thresholding : 16\n",
      "Cell tracking : 16\n",
      "Volume rendering : 15\n",
      "Affine registration : 14\n",
      "Object feature extraction : 13\n",
      "Isolated object classification : 13\n",
      "Data handling : 13\n",
      "Watershed : 13\n",
      "Smoothing : 13\n",
      "Interactive segmentation : 12\n",
      "Rigid registration : 12\n",
      "Image enhancement : 11\n",
      "Pixel classification : 11\n",
      "Object-based colocalisation : 11\n",
      "Active contours : 10\n",
      "Image annotation : 10\n",
      "Image denoising : 9\n",
      "Deformable registration : 9\n",
      "Image correction : 9\n",
      "Isolated object detection : 9\n",
      "Particle tracking : 8\n",
      "Affine : 7\n",
      "Skeletonisation : 7\n",
      "Alignment construction : 7\n",
      "Image stitching : 7\n",
      "Chromatic aberration correction : 7\n",
      "Image projection : 7\n",
      "Image convolution : 7\n",
      "Single molecule localisation : 7\n",
      "Image reconstruction : 6\n",
      "Landmark detection : 6\n",
      "Image classification : 6\n",
      "Classification : 6\n",
      "Illumination correction : 6\n",
      "Drift correction : 6\n",
      "Pattern recognition : 6\n",
      "Selective plane illumination microscopy reconstruction : 5\n",
      "Geometrical transform : 5\n",
      "Pixel-based colocalisation : 5\n",
      "Plotting : 5\n",
      "Frequency analysis : 4\n",
      "Trajectory analysis : 4\n",
      "Distance transform : 4\n",
      "Image generation : 4\n",
      "Clustering : 4\n",
      "Synthetic image generation : 4\n",
      "Prediction and recognition : 4\n",
      "Annotation : 3\n",
      "Conversion : 3\n",
      "Montage : 3\n",
      "Rotation : 3\n",
      "Adaptative thresholding : 3\n",
      "Editing : 3\n",
      "Warping : 3\n",
      "Object registration : 3\n",
      "Closing : 3\n",
      "Isolated object tracking : 2\n",
      "Dilation : 2\n",
      "Spectral unmixing : 2\n",
      "Optical flow analysis : 2\n",
      "Image crop : 2\n",
      "Geometric distortion correction : 2\n",
      "Wound-healing analysis : 2\n",
      "Texture extraction : 2\n",
      "Structured illumination reconstruction : 1\n",
      "Local thresholding : 1\n",
      "Image validation : 1\n",
      "Overlay : 1\n",
      "Erosion : 1\n",
      "Collective object tracking : 1\n",
      "Tomography reconstruction : 1\n",
      "Feature enhancement : 1\n",
      "Generation : 1\n",
      "Opening : 1\n",
      "CPU times: user 184 ms, sys: 3.92 ms, total: 188 ms\n",
      "Wall time: 185 ms\n"
     ]
    }
   ],
   "source": [
    "%%time\n",
    "how_many_tools_per_operation = \"\"\"\n",
    "SELECT ?label (count(distinct ?s1) as ?soft_count) WHERE { \n",
    "    ?s1 a <http://biii.eu/node/software> .\n",
    "    ?s1 <http://bise-eu.info/core-ontology#hasFunction> ?edam_class .\n",
    "        \n",
    "    ?edam_class rdfs:label ?label .\n",
    "}\n",
    "GROUP BY ?edam_class ?label\n",
    "ORDER BY DESC(?soft_count)\n",
    "\"\"\"\n",
    "\n",
    "results = g.query(how_many_tools_per_operation, initNs=ns)\n",
    "for r in results:\n",
    "    print(r[\"label\"] + \" : \" + r[\"soft_count\"])"
   ]
  },
  {
   "cell_type": "markdown",
   "metadata": {},
   "source": [
    "# Count the number of tool for 2018"
   ]
  },
  {
   "cell_type": "code",
   "execution_count": 65,
   "metadata": {
    "collapsed": false
   },
   "outputs": [
    {
     "name": "stdout",
     "output_type": "stream",
     "text": [
      "169 registered softwares in 2018\n",
      "\n",
      "CPU times: user 306 ms, sys: 2.46 ms, total: 308 ms\n",
      "Wall time: 307 ms\n"
     ]
    }
   ],
   "source": [
    "%%time\n",
    "date_query = \"\"\"\n",
    "SELECT (count(?soft) as ?nb_soft) WHERE {\n",
    "    ?soft a <http://biii.eu/node/software> .\n",
    "    ?soft dc:created ?date .\n",
    "    FILTER ((?date > \"2018-01-01T00:00:00\"^^xsd:dateTime) \n",
    "            && (?date < \"2019-01-01T00:00:00\"^^xsd:dateTime))\n",
    "}\n",
    "\"\"\"\n",
    "results = g.query(date_query, initNs=ns)\n",
    "for r in results:\n",
    "    print('{} registered softwares in 2018'.format(r['nb_soft']))\n",
    "#    print(r[\"label\"] + \" : \" + r[\"soft_count\"])\n",
    "print()\n"
   ]
  },
  {
   "cell_type": "code",
   "execution_count": 9,
   "metadata": {
    "collapsed": false
   },
   "outputs": [],
   "source": [
    "import pandas as pd\n",
    "import matplotlib.pyplot as plt\n",
    "import matplotlib.dates as mdates"
   ]
  },
  {
   "cell_type": "code",
   "execution_count": 10,
   "metadata": {
    "collapsed": false,
    "scrolled": false
   },
   "outputs": [
    {
     "data": {
      "text/plain": [
       "<matplotlib.axes._subplots.AxesSubplot at 0x11b0cbac8>"
      ]
     },
     "execution_count": 10,
     "metadata": {},
     "output_type": "execute_result"
    },
    {
     "data": {
      "image/png": "[encoded data removed]",
      "text/plain": [
       "<matplotlib.figure.Figure at 0x108640dd8>"
      ]
     },
     "metadata": {},
     "output_type": "display_data"
    }
   ],
   "source": [
    "%matplotlib inline\n",
    "\n",
    "#plt.figure(figsize=(16, 10))\n",
    "plt.figure(figsize=(9, 6))\n",
    "\n",
    "soft_dates = []\n",
    "date_query = \"\"\"\n",
    "SELECT ?soft ?date WHERE {\n",
    "    ?soft a <http://biii.eu/node/software> .\n",
    "    ?soft dc:created ?date .\n",
    "}\n",
    "\"\"\"\n",
    "results = g.query(date_query, initNs=ns)\n",
    "for r in results:\n",
    "    soft_dates.append({'soft':r['soft'], 'created':r['date']})\n",
    "\n",
    "df = pd.DataFrame(soft_dates)\n",
    "df[\"created\"] = df[\"created\"].astype(\"datetime64\")\n",
    "\n",
    "#df2 = df.groupby([df[\"created\"].dt.year, df[\"created\"].dt.month]).count()\n",
    "df2 = df.groupby([df[\"created\"].dt.year]).count()\n",
    "\n",
    "df2['soft'].cumsum().plot(kind='bar')"
   ]
  },
  {
   "cell_type": "code",
   "execution_count": 27,
   "metadata": {
    "collapsed": false
   },
   "outputs": [
    {
     "data": {
      "text/html": [
       "<div>\n",
       "<table border=\"1\" class=\"dataframe\">\n",
       "  <thead>\n",
       "    <tr style=\"text-align: right;\">\n",
       "      <th></th>\n",
       "      <th>soft</th>\n",
       "    </tr>\n",
       "    <tr>\n",
       "      <th>created</th>\n",
       "      <th></th>\n",
       "    </tr>\n",
       "  </thead>\n",
       "  <tbody>\n",
       "    <tr>\n",
       "      <th>2013</th>\n",
       "      <td>740</td>\n",
       "    </tr>\n",
       "    <tr>\n",
       "      <th>2014</th>\n",
       "      <td>152</td>\n",
       "    </tr>\n",
       "    <tr>\n",
       "      <th>2015</th>\n",
       "      <td>14</td>\n",
       "    </tr>\n",
       "    <tr>\n",
       "      <th>2016</th>\n",
       "      <td>54</td>\n",
       "    </tr>\n",
       "    <tr>\n",
       "      <th>2017</th>\n",
       "      <td>107</td>\n",
       "    </tr>\n",
       "    <tr>\n",
       "      <th>2018</th>\n",
       "      <td>169</td>\n",
       "    </tr>\n",
       "    <tr>\n",
       "      <th>2019</th>\n",
       "      <td>90</td>\n",
       "    </tr>\n",
       "  </tbody>\n",
       "</table>\n",
       "</div>"
      ],
      "text/plain": [
       "         soft\n",
       "created      \n",
       "2013      740\n",
       "2014      152\n",
       "2015       14\n",
       "2016       54\n",
       "2017      107\n",
       "2018      169\n",
       "2019       90"
      ]
     },
     "execution_count": 27,
     "metadata": {},
     "output_type": "execute_result"
    }
   ],
   "source": [
    "import seaborn as sns\n",
    "\n",
    "\n",
    "per_year_df = df.groupby([df[\"created\"].dt.year]).count()[['soft']]\n",
    "per_year_df.to_csv('counts_per_year.csv')\n",
    "per_year_df\n",
    "\n",
    "#sns.countplot(per_year_df['soft'])"
   ]
  },
  {
   "cell_type": "code",
   "execution_count": null,
   "metadata": {
    "collapsed": false
   },
   "outputs": [],
   "source": [
    "\n",
    "\n"
   ]
  },
  {
   "cell_type": "markdown",
   "metadata": {},
   "source": [
    "Ideas of plots : \n",
    " - cumulative stacked hostogram with : \"no EDAM annotation\" / \"some EDAM annotatino\" to show that we improvve the quality of tool descriptions\n",
    " - same thing with 4-5 categories for the main Topics\n",
    " - same thing Tools VS Traing material\n",
    " - Open Source VS Comercial softwares \n",
    " "
   ]
  },
  {
   "cell_type": "code",
   "execution_count": 31,
   "metadata": {
    "collapsed": false
   },
   "outputs": [],
   "source": []
  },
  {
   "cell_type": "code",
   "execution_count": 41,
   "metadata": {
    "collapsed": false
   },
   "outputs": [
    {
     "name": "stdout",
     "output_type": "stream",
     "text": [
      "[{'Topic': 'Imaging', 'Count': '177'}, {'Topic': 'Bioimage informatics', 'Count': '81'}, {'Topic': 'Machine learning', 'Count': '36'}, {'Topic': 'Digital histology', 'Count': '28'}, {'Topic': 'Statistics', 'Count': '15'}, {'Topic': 'High content screening', 'Count': '15'}, {'Topic': 'Data sharing', 'Count': '11'}, {'Topic': 'In-silico reconstruction', 'Count': '3'}]\n"
     ]
    },
    {
     "data": {
      "text/html": [
       "<div>\n",
       "<table border=\"1\" class=\"dataframe\">\n",
       "  <thead>\n",
       "    <tr style=\"text-align: right;\">\n",
       "      <th></th>\n",
       "      <th>Count</th>\n",
       "      <th>Topic</th>\n",
       "    </tr>\n",
       "  </thead>\n",
       "  <tbody>\n",
       "    <tr>\n",
       "      <th>0</th>\n",
       "      <td>177</td>\n",
       "      <td>Imaging</td>\n",
       "    </tr>\n",
       "    <tr>\n",
       "      <th>1</th>\n",
       "      <td>81</td>\n",
       "      <td>Bioimage informatics</td>\n",
       "    </tr>\n",
       "    <tr>\n",
       "      <th>2</th>\n",
       "      <td>36</td>\n",
       "      <td>Machine learning</td>\n",
       "    </tr>\n",
       "    <tr>\n",
       "      <th>3</th>\n",
       "      <td>28</td>\n",
       "      <td>Digital histology</td>\n",
       "    </tr>\n",
       "    <tr>\n",
       "      <th>4</th>\n",
       "      <td>15</td>\n",
       "      <td>Statistics</td>\n",
       "    </tr>\n",
       "    <tr>\n",
       "      <th>5</th>\n",
       "      <td>15</td>\n",
       "      <td>High content screening</td>\n",
       "    </tr>\n",
       "    <tr>\n",
       "      <th>6</th>\n",
       "      <td>11</td>\n",
       "      <td>Data sharing</td>\n",
       "    </tr>\n",
       "    <tr>\n",
       "      <th>7</th>\n",
       "      <td>3</td>\n",
       "      <td>In-silico reconstruction</td>\n",
       "    </tr>\n",
       "  </tbody>\n",
       "</table>\n",
       "</div>"
      ],
      "text/plain": [
       "  Count                     Topic\n",
       "0   177                   Imaging\n",
       "1    81      Bioimage informatics\n",
       "2    36          Machine learning\n",
       "3    28         Digital histology\n",
       "4    15                Statistics\n",
       "5    15    High content screening\n",
       "6    11              Data sharing\n",
       "7     3  In-silico reconstruction"
      ]
     },
     "execution_count": 41,
     "metadata": {},
     "output_type": "execute_result"
    }
   ],
   "source": [
    "#%%time\n",
    "#get the main Topics\n",
    "how_many_tools_per_topic = \"\"\"\n",
    "SELECT ?l (count(distinct ?s1) as ?soft_count) WHERE { \n",
    "#SELECT ?subclass WHERE { \n",
    "    ?s1 a <http://biii.eu/node/software> .\n",
    "    ?c rdfs:subClassOf <http://edamontology.org/topic_0003> .\n",
    "    ?c rdfs:label ?l .\n",
    "    ?subclass rdfs:subClassOf* ?c .\n",
    "    ?s1 <http://bise-eu.info/core-ontology#hasTopic> ?subclass .\n",
    "}\n",
    "GROUP BY ?c ?l\n",
    "ORDER BY DESC(?soft_count)\n",
    "\"\"\"\n",
    "\n",
    "list_of_topics = []\n",
    "results = g.query(how_many_tools_per_topic, initNs=ns)\n",
    "for r in results:\n",
    "    list_of_topics.append({'Topic':str(r['l']), 'Count':str(r['soft_count'])})   \n",
    "#print(list_of_topics)\n",
    "\n",
    "df = pd.DataFrame(list_of_topics)\n",
    "df"
   ]
  },
  {
   "cell_type": "code",
   "execution_count": 42,
   "metadata": {
    "collapsed": false
   },
   "outputs": [
    {
     "data": {
      "text/html": [
       "<div>\n",
       "<table border=\"1\" class=\"dataframe\">\n",
       "  <thead>\n",
       "    <tr style=\"text-align: right;\">\n",
       "      <th></th>\n",
       "      <th>Count</th>\n",
       "      <th>Operation</th>\n",
       "    </tr>\n",
       "  </thead>\n",
       "  <tbody>\n",
       "    <tr>\n",
       "      <th>0</th>\n",
       "      <td>282</td>\n",
       "      <td>Analysis</td>\n",
       "    </tr>\n",
       "    <tr>\n",
       "      <th>1</th>\n",
       "      <td>169</td>\n",
       "      <td>Image processing</td>\n",
       "    </tr>\n",
       "    <tr>\n",
       "      <th>2</th>\n",
       "      <td>52</td>\n",
       "      <td>Visualisation</td>\n",
       "    </tr>\n",
       "    <tr>\n",
       "      <th>3</th>\n",
       "      <td>50</td>\n",
       "      <td>Generation</td>\n",
       "    </tr>\n",
       "    <tr>\n",
       "      <th>4</th>\n",
       "      <td>44</td>\n",
       "      <td>Alignment construction</td>\n",
       "    </tr>\n",
       "    <tr>\n",
       "      <th>5</th>\n",
       "      <td>32</td>\n",
       "      <td>Classification</td>\n",
       "    </tr>\n",
       "    <tr>\n",
       "      <th>6</th>\n",
       "      <td>16</td>\n",
       "      <td>Data handling</td>\n",
       "    </tr>\n",
       "    <tr>\n",
       "      <th>7</th>\n",
       "      <td>13</td>\n",
       "      <td>Annotation</td>\n",
       "    </tr>\n",
       "    <tr>\n",
       "      <th>8</th>\n",
       "      <td>9</td>\n",
       "      <td>Prediction and recognition</td>\n",
       "    </tr>\n",
       "    <tr>\n",
       "      <th>9</th>\n",
       "      <td>4</td>\n",
       "      <td>Clustering</td>\n",
       "    </tr>\n",
       "    <tr>\n",
       "      <th>10</th>\n",
       "      <td>3</td>\n",
       "      <td>Conversion</td>\n",
       "    </tr>\n",
       "    <tr>\n",
       "      <th>11</th>\n",
       "      <td>1</td>\n",
       "      <td>Validation</td>\n",
       "    </tr>\n",
       "  </tbody>\n",
       "</table>\n",
       "</div>"
      ],
      "text/plain": [
       "   Count                   Operation\n",
       "0    282                    Analysis\n",
       "1    169            Image processing\n",
       "2     52               Visualisation\n",
       "3     50                  Generation\n",
       "4     44      Alignment construction\n",
       "5     32              Classification\n",
       "6     16               Data handling\n",
       "7     13                  Annotation\n",
       "8      9  Prediction and recognition\n",
       "9      4                  Clustering\n",
       "10     3                  Conversion\n",
       "11     1                  Validation"
      ]
     },
     "execution_count": 42,
     "metadata": {},
     "output_type": "execute_result"
    }
   ],
   "source": [
    "#%%time\n",
    "#get the main Operations\n",
    "how_many_tools_per_op = \"\"\"\n",
    "SELECT ?l (count(distinct ?s1) as ?soft_count) WHERE { \n",
    "#SELECT ?subclass ?l WHERE { \n",
    "    ?s1 a <http://biii.eu/node/software> .\n",
    "    ?c rdfs:subClassOf <http://edamontology.org/operation_0004> .\n",
    "    ?c rdfs:label ?l .\n",
    "    ?subclass rdfs:subClassOf* ?c .\n",
    "    ?s1 <http://bise-eu.info/core-ontology#hasFunction> ?subclass .\n",
    "}\n",
    "GROUP BY ?c ?l\n",
    "ORDER BY DESC(?soft_count)\n",
    "\"\"\"\n",
    "\n",
    "list_of_op = []\n",
    "results = g.query(how_many_tools_per_op, initNs=ns)\n",
    "for r in results:\n",
    "    list_of_op.append({'Operation':str(r['l']), 'Count':str(r['soft_count'])})\n",
    "\n",
    "df = pd.DataFrame(list_of_op)\n",
    "df"
   ]
  },
  {
   "cell_type": "code",
   "execution_count": null,
   "metadata": {
    "collapsed": false
   },
   "outputs": [],
   "source": []
  },
  {
   "cell_type": "code",
   "execution_count": 46,
   "metadata": {
    "collapsed": false,
    "scrolled": true
   },
   "outputs": [],
   "source": [
    "#%%time\n",
    "list_tools_op_topic = \"\"\"\n",
    "SELECT ?s1 ?ol ?tl WHERE { \n",
    "    ?s1 a <http://biii.eu/node/software> .\n",
    "    ?oc rdfs:subClassOf <http://edamontology.org/operation_0004> .\n",
    "    ?oc rdfs:label ?ol .\n",
    "    ?osc rdfs:subClassOf* ?oc .\n",
    "    ?s1 <http://bise-eu.info/core-ontology#hasFunction> ?osc .\n",
    "    \n",
    "    ?tc rdfs:subClassOf <http://edamontology.org/topic_0003> .\n",
    "    ?tc rdfs:label ?tl .\n",
    "    ?tsc rdfs:subClassOf* ?tc .\n",
    "    ?s1 <http://bise-eu.info/core-ontology#hasTopic> ?tsc .\n",
    "}\n",
    "\"\"\"\n",
    "tools = []\n",
    "results = g.query(list_tools_op_topic, initNs=ns)\n",
    "for r in results:\n",
    "    t = {'tool':str(r['s1']), 'operation': str(r['ol']),'topic': str(r['tl'])}\n",
    "    #print(t)\n",
    "    tools.append(t)"
   ]
  },
  {
   "cell_type": "code",
   "execution_count": 47,
   "metadata": {
    "collapsed": false
   },
   "outputs": [
    {
     "data": {
      "text/plain": [
       "[<matplotlib.text.Text at 0x108458b70>,\n",
       " <matplotlib.text.Text at 0x11e896630>,\n",
       " <matplotlib.text.Text at 0x10844afd0>,\n",
       " <matplotlib.text.Text at 0x108437ac8>,\n",
       " <matplotlib.text.Text at 0x1084345c0>,\n",
       " <matplotlib.text.Text at 0x10845f0b8>,\n",
       " <matplotlib.text.Text at 0x10845fb70>,\n",
       " <matplotlib.text.Text at 0x10844c668>,\n",
       " <matplotlib.text.Text at 0x108446160>,\n",
       " <matplotlib.text.Text at 0x108446c18>,\n",
       " <matplotlib.text.Text at 0x108469710>]"
      ]
     },
     "execution_count": 47,
     "metadata": {},
     "output_type": "execute_result"
    },
    {
     "data": {
      "image/png": "[encoded data removed]",
      "text/plain": [
       "<matplotlib.figure.Figure at 0x1084a9ac8>"
      ]
     },
     "metadata": {},
     "output_type": "display_data"
    }
   ],
   "source": [
    "df = pd.DataFrame(tools)\n",
    "chart = sns.countplot(x=\"operation\", data=df)\n",
    "chart.set_xticklabels(chart.get_xticklabels(), rotation=45)"
   ]
  },
  {
   "cell_type": "code",
   "execution_count": 48,
   "metadata": {
    "collapsed": false
   },
   "outputs": [
    {
     "data": {
      "text/plain": [
       "[<matplotlib.text.Text at 0x11f2e7b70>,\n",
       " <matplotlib.text.Text at 0x11f2e1320>,\n",
       " <matplotlib.text.Text at 0x11f423dd8>,\n",
       " <matplotlib.text.Text at 0x11f4054a8>,\n",
       " <matplotlib.text.Text at 0x11f405898>,\n",
       " <matplotlib.text.Text at 0x11f4335f8>,\n",
       " <matplotlib.text.Text at 0x11f43ce10>,\n",
       " <matplotlib.text.Text at 0x11f43c2e8>]"
      ]
     },
     "execution_count": 48,
     "metadata": {},
     "output_type": "execute_result"
    },
    {
     "data": {
      "image/png": "[encoded data removed]",
      "text/plain": [
       "<matplotlib.figure.Figure at 0x122a05e10>"
      ]
     },
     "metadata": {},
     "output_type": "display_data"
    }
   ],
   "source": [
    "df = pd.DataFrame(tools)\n",
    "chart = sns.countplot(x=\"topic\", data=df)\n",
    "chart.set_xticklabels(chart.get_xticklabels(), rotation=45)"
   ]
  },
  {
   "cell_type": "code",
   "execution_count": 61,
   "metadata": {
    "collapsed": false
   },
   "outputs": [
    {
     "data": {
      "text/plain": [
       "[<matplotlib.text.Text at 0x1224ff470>,\n",
       " <matplotlib.text.Text at 0x122587278>,\n",
       " <matplotlib.text.Text at 0x1225999e8>,\n",
       " <matplotlib.text.Text at 0x12258deb8>,\n",
       " <matplotlib.text.Text at 0x1229c37f0>,\n",
       " <matplotlib.text.Text at 0x1229cc2b0>,\n",
       " <matplotlib.text.Text at 0x1229ccd30>,\n",
       " <matplotlib.text.Text at 0x1229c32e8>]"
      ]
     },
     "execution_count": 61,
     "metadata": {},
     "output_type": "execute_result"
    },
    {
     "data": {
      "image/png": "[encoded data removed]",
      "text/plain": [
       "<matplotlib.figure.Figure at 0x1224b1d30>"
      ]
     },
     "metadata": {},
     "output_type": "display_data"
    }
   ],
   "source": [
    "plt.figure(figsize=(16, 10))\n",
    "\n",
    "df_heatmap = pd.DataFrame(tools) \n",
    "df_heatmap\n",
    "df_heatmap_dum = pd.get_dummies(df_heatmap, columns=['operation', 'topic'])\n",
    "df_heatmap_dum\n",
    "\n",
    "df_crosstab = pd.crosstab(df_heatmap['operation'], df_heatmap['topic'])\n",
    "#df_heatmap_dum.corr()\n",
    "#sns.heatmap(df_heatmap_dum.corr(), linewidths=.5)\n",
    "#corr = df_heatmap['operation'].corr(df_heatmap['topic'])\n",
    "#corr\n",
    "#sns.heatmap(df_heatmap.corr(), linewidths=.5)\n",
    "chart = sns.heatmap(df_crosstab, linewidths=5)\n",
    "chart.set_xticklabels(chart.get_xticklabels(), rotation=45)"
   ]
  },
  {
   "cell_type": "code",
   "execution_count": null,
   "metadata": {
    "collapsed": false
   },
   "outputs": [],
   "source": []
  },
  {
   "cell_type": "code",
   "execution_count": null,
   "metadata": {
    "collapsed": true
   },
   "outputs": [],
   "source": []
  }
 ],
 "metadata": {
  "kernelspec": {
   "display_name": "Python 3",
   "language": "python",
   "name": "python3"
  },
  "language_info": {
   "codemirror_mode": {
    "name": "ipython",
    "version": 3
   },
   "file_extension": ".py",
   "mimetype": "text/x-python",
   "name": "python",
   "nbconvert_exporter": "python",
   "pygments_lexer": "ipython3",
   "version": "3.4.5"
  }
 },
 "nbformat": 4,
 "nbformat_minor": 2
}

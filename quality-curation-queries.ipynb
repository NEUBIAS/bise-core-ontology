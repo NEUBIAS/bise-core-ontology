{
 "cells": [
  {
   "cell_type": "markdown",
   "metadata": {},
   "source": [
    "# Load the RDF data dump"
   ]
  },
  {
   "cell_type": "code",
   "execution_count": 4,
   "metadata": {},
   "outputs": [
    {
     "name": "stdout",
     "output_type": "stream",
     "text": [
      "27864 triples in Biii data graph\n",
      "CPU times: user 1.56 s, sys: 361 ms, total: 1.93 s\n",
      "Wall time: 2.61 s\n"
     ]
    }
   ],
   "source": [
    "%%time\n",
    "\n",
    "import pandas as pd\n",
    "import matplotlib.pyplot as plt\n",
    "import matplotlib.dates as mdates\n",
    "\n",
    "from rdflib import ConjunctiveGraph\n",
    "\n",
    "ns = {\"nb\": \"http://bise-eu.info/core-ontology#\",\n",
    "      \"dc\": \"http://dcterms/\",\n",
    "      \"p-plan\": \"http://purl.org/net/p-plan#\",\n",
    "      \"edam\": \"http://purl.obolibrary.org/obo/edam#\"}\n",
    "\n",
    "g = ConjunctiveGraph()\n",
    "\n",
    "### latest version of the RDF dataset dump\n",
    "g.parse(\"https://raw.githubusercontent.com/bio-tools/content/master/datasets/bise-ontology-biii-dump.ttl\", format=\"turtle\")\n",
    "g.parse(\"bise-linked-data-webapp/static/data/EDAM-bioimaging_alpha03.owl\")\n",
    "print(str(len(g)) + ' triples in Biii data graph')"
   ]
  },
  {
   "cell_type": "markdown",
   "metadata": {},
   "source": [
    "# Level-0 entries"
   ]
  },
  {
   "cell_type": "code",
   "execution_count": 7,
   "metadata": {
    "scrolled": false
   },
   "outputs": [
    {
     "name": "stdout",
     "output_type": "stream",
     "text": [
      "1362\n"
     ]
    },
    {
     "data": {
      "text/plain": [
       "<AxesSubplot:xlabel='created'>"
      ]
     },
     "execution_count": 7,
     "metadata": {},
     "output_type": "execute_result"
    },
    {
     "data": {
      "image/png": "[encoded data removed]",
      "text/plain": [
       "<Figure size 1152x720 with 1 Axes>"
      ]
     },
     "metadata": {
      "needs_background": "light"
     },
     "output_type": "display_data"
    }
   ],
   "source": [
    "%matplotlib inline\n",
    "\n",
    "plt.figure(figsize=(16, 10))\n",
    "\n",
    "soft_dates = []\n",
    "date_query = \"\"\"\n",
    "SELECT ?soft ?date WHERE {\n",
    "    ?soft a <http://biii.eu/software> .\n",
    "    ?soft dc:created ?date .\n",
    "}\n",
    "\"\"\"\n",
    "results = g.query(date_query, initNs=ns)\n",
    "for r in results:\n",
    "    soft_dates.append({'soft':str(r['soft']), 'created':str(r['date'])})\n",
    "\n",
    "print(len(soft_dates))\n",
    "\n",
    "df = pd.DataFrame(soft_dates)\n",
    "df[\"created\"] = df[\"created\"].astype(\"datetime64\")\n",
    "\n",
    "#df2 = df.groupby([df[\"created\"].dt.year, df[\"created\"].dt.month]).count()\n",
    "df2 = df.groupby([df[\"created\"].dt.year]).count()\n",
    "\n",
    "df2['soft'].cumsum().plot(kind='bar')\n",
    "#df2['soft'].cumsum()"
   ]
  },
  {
   "cell_type": "markdown",
   "metadata": {},
   "source": [
    "# Sparse entries"
   ]
  },
  {
   "cell_type": "code",
   "execution_count": 8,
   "metadata": {
    "scrolled": false
   },
   "outputs": [
    {
     "name": "stdout",
     "output_type": "stream",
     "text": [
      "940\n"
     ]
    },
    {
     "data": {
      "text/plain": [
       "<AxesSubplot:xlabel='created'>"
      ]
     },
     "execution_count": 8,
     "metadata": {},
     "output_type": "execute_result"
    },
    {
     "data": {
      "image/png": "[encoded data removed]",
      "text/plain": [
       "<Figure size 1152x720 with 1 Axes>"
      ]
     },
     "metadata": {
      "needs_background": "light"
     },
     "output_type": "display_data"
    }
   ],
   "source": [
    "#%%time\n",
    "%matplotlib inline\n",
    "\n",
    "plt.figure(figsize=(16, 10))\n",
    "#plt.figure(figsize=(9, 6))\n",
    "\n",
    "soft_dates = []\n",
    "date_query = \"\"\"\n",
    "SELECT DISTINCT ?soft ?date WHERE {\n",
    "    ?soft a <http://biii.eu/software> .\n",
    "    ?soft dc:created ?date .\n",
    "    ?soft dc:title ?title .\n",
    "    ?soft rdfs:comment ?description .\n",
    "    FILTER (\n",
    "        NOT EXISTS {?soft nb:hasImplementation ?i} \n",
    "        || NOT EXISTS {?soft nb:hasLocation ?loc} \n",
    "        || NOT EXISTS {?soft nb:hasIllustration ?ill} \n",
    "        || NOT EXISTS {?soft nb:hasAuthor ?auth}\n",
    "        || NOT EXISTS {?soft nb:hasFunction ?func}\n",
    "        || NOT EXISTS {?soft nb:openess ?lic_op}\n",
    "        || NOT EXISTS {?soft nb:hasLicense ?lic}\n",
    "        || NOT EXISTS {?soft nb:hasSupportedImageDimension ?dim}\n",
    "        || NOT EXISTS {?soft nb:requires ?dep}\n",
    "        || NOT EXISTS {?soft nb:hasProgrammingLanguage ?prog}\n",
    "        || NOT EXISTS {?soft nb:hasPlatform ?plat}\n",
    "        || NOT EXISTS {?soft nb:hasTopic ?topic}\n",
    "        || NOT EXISTS {?soft nb:hasReferencePublication ?ref}\n",
    "        || NOT EXISTS {?soft nb:hasDocumentation ?doc}\n",
    "        || NOT EXISTS {?soft nb:hasComparison ?comp}\n",
    "        || NOT EXISTS {?soft nb:hasDOI ?doi}\n",
    "        || NOT EXISTS {?soft nb:hasUsageExample ?usag}\n",
    "        || NOT EXISTS {?soft nb:hasTrainingMaterial ?train}\n",
    "    )\n",
    "}\n",
    "\"\"\"\n",
    "results = g.query(date_query, initNs=ns)\n",
    "for r in results:\n",
    "    soft_dates.append({'soft':str(r['soft']), 'created':str(r['date'])})\n",
    "\n",
    "print(len(soft_dates))\n",
    "df = pd.DataFrame(soft_dates)\n",
    "df[\"created\"] = df[\"created\"].astype(\"datetime64\")\n",
    "\n",
    "#df2 = df.groupby([df[\"created\"].dt.year, df[\"created\"].dt.month]).count()\n",
    "df2 = df.groupby([df[\"created\"].dt.year]).count()\n",
    "#df2\n",
    "\n",
    "df2['soft'].cumsum().plot(kind='bar')\n",
    "#df2['soft'].cumsum()"
   ]
  },
  {
   "cell_type": "markdown",
   "metadata": {},
   "source": [
    "# Detailed entries"
   ]
  },
  {
   "cell_type": "code",
   "execution_count": 9,
   "metadata": {
    "scrolled": false
   },
   "outputs": [
    {
     "name": "stdout",
     "output_type": "stream",
     "text": [
      "81\n"
     ]
    },
    {
     "data": {
      "text/html": [
       "<div>\n",
       "<style scoped>\n",
       "    .dataframe tbody tr th:only-of-type {\n",
       "        vertical-align: middle;\n",
       "    }\n",
       "\n",
       "    .dataframe tbody tr th {\n",
       "        vertical-align: top;\n",
       "    }\n",
       "\n",
       "    .dataframe thead th {\n",
       "        text-align: right;\n",
       "    }\n",
       "</style>\n",
       "<table border=\"1\" class=\"dataframe\">\n",
       "  <thead>\n",
       "    <tr style=\"text-align: right;\">\n",
       "      <th></th>\n",
       "      <th>soft</th>\n",
       "      <th>created</th>\n",
       "    </tr>\n",
       "  </thead>\n",
       "  <tbody>\n",
       "    <tr>\n",
       "      <th>0</th>\n",
       "      <td>http://biii.eu/2d-brain-slice-region-annotatio...</td>\n",
       "      <td>2018-01-28 11:37:30</td>\n",
       "    </tr>\n",
       "    <tr>\n",
       "      <th>1</th>\n",
       "      <td>http://biii.eu/3-d-density-kernel-estimation</td>\n",
       "      <td>2018-10-18 10:18:22</td>\n",
       "    </tr>\n",
       "    <tr>\n",
       "      <th>2</th>\n",
       "      <td>http://biii.eu/3d-nuclei-clustering-tool</td>\n",
       "      <td>2020-09-22 15:59:35</td>\n",
       "    </tr>\n",
       "    <tr>\n",
       "      <th>3</th>\n",
       "      <td>http://biii.eu/allen-cell-structure-segmenter</td>\n",
       "      <td>2019-01-02 09:09:35</td>\n",
       "    </tr>\n",
       "    <tr>\n",
       "      <th>4</th>\n",
       "      <td>http://biii.eu/anisotropic-diffusion-2d</td>\n",
       "      <td>2013-10-11 13:08:41</td>\n",
       "    </tr>\n",
       "    <tr>\n",
       "      <th>...</th>\n",
       "      <td>...</td>\n",
       "      <td>...</td>\n",
       "    </tr>\n",
       "    <tr>\n",
       "      <th>76</th>\n",
       "      <td>http://biii.eu/webknossos-3d-image-annotation-...</td>\n",
       "      <td>2021-02-25 15:00:29</td>\n",
       "    </tr>\n",
       "    <tr>\n",
       "      <th>77</th>\n",
       "      <td>http://biii.eu/wis-phagotracker</td>\n",
       "      <td>2013-10-11 15:17:13</td>\n",
       "    </tr>\n",
       "    <tr>\n",
       "      <th>78</th>\n",
       "      <td>http://biii.eu/yeastspotter</td>\n",
       "      <td>2019-03-22 17:07:48</td>\n",
       "    </tr>\n",
       "    <tr>\n",
       "      <th>79</th>\n",
       "      <td>http://biii.eu/z-spacing-correction-fiji</td>\n",
       "      <td>2018-01-30 16:04:02</td>\n",
       "    </tr>\n",
       "    <tr>\n",
       "      <th>80</th>\n",
       "      <td>http://biii.eu/qualitative-annotations-fiji-pl...</td>\n",
       "      <td>2020-11-12 10:22:06</td>\n",
       "    </tr>\n",
       "  </tbody>\n",
       "</table>\n",
       "<p>81 rows × 2 columns</p>\n",
       "</div>"
      ],
      "text/plain": [
       "                                                 soft             created\n",
       "0   http://biii.eu/2d-brain-slice-region-annotatio... 2018-01-28 11:37:30\n",
       "1        http://biii.eu/3-d-density-kernel-estimation 2018-10-18 10:18:22\n",
       "2            http://biii.eu/3d-nuclei-clustering-tool 2020-09-22 15:59:35\n",
       "3       http://biii.eu/allen-cell-structure-segmenter 2019-01-02 09:09:35\n",
       "4             http://biii.eu/anisotropic-diffusion-2d 2013-10-11 13:08:41\n",
       "..                                                ...                 ...\n",
       "76  http://biii.eu/webknossos-3d-image-annotation-... 2021-02-25 15:00:29\n",
       "77                    http://biii.eu/wis-phagotracker 2013-10-11 15:17:13\n",
       "78                        http://biii.eu/yeastspotter 2019-03-22 17:07:48\n",
       "79           http://biii.eu/z-spacing-correction-fiji 2018-01-30 16:04:02\n",
       "80  http://biii.eu/qualitative-annotations-fiji-pl... 2020-11-12 10:22:06\n",
       "\n",
       "[81 rows x 2 columns]"
      ]
     },
     "execution_count": 9,
     "metadata": {},
     "output_type": "execute_result"
    },
    {
     "data": {
      "image/png": "[encoded data removed]",
      "text/plain": [
       "<Figure size 1152x720 with 1 Axes>"
      ]
     },
     "metadata": {
      "needs_background": "light"
     },
     "output_type": "display_data"
    }
   ],
   "source": [
    "%matplotlib inline\n",
    "\n",
    "plt.figure(figsize=(16, 10))\n",
    "#plt.figure(figsize=(9, 6))\n",
    "\n",
    "soft_dates = []\n",
    "date_query = \"\"\"\n",
    "SELECT DISTINCT ?soft ?date WHERE {\n",
    "    ?soft a <http://biii.eu/software> .\n",
    "    ?soft dc:created ?date .\n",
    "    ?soft dc:title ?title .\n",
    "    ?soft rdfs:comment ?description .\n",
    "    ?soft nb:hasImplementation ?i .\n",
    "    ?soft nb:hasLocation ?loc .\n",
    "    ?soft nb:hasIllustration ?ill .\n",
    "    ?soft nb:hasAuthor ?auth .\n",
    "    ?soft nb:hasFunction ?func .\n",
    "    ?soft nb:openess ?lic_op .\n",
    "    ?soft nb:hasLicense ?lic .\n",
    "    \n",
    "    ?soft nb:hasSupportedImageDimension|nb:requires ?usage .\n",
    "    \n",
    "    ?soft nb:hasProgrammingLanguage ?prog .\n",
    "    ?soft nb:hasPlatform ?plat .\n",
    "    ?soft nb:hasTopic ?topic .\n",
    "\n",
    "}\n",
    "\"\"\"\n",
    "results = g.query(date_query, initNs=ns)\n",
    "for r in results:\n",
    "    soft_dates.append({'soft':str(r['soft']), 'created':str(r['date'])})\n",
    "\n",
    "print(len(soft_dates))\n",
    "\n",
    "df = pd.DataFrame(soft_dates)\n",
    "df[\"created\"] = df[\"created\"].astype(\"datetime64\")\n",
    "\n",
    "#df2 = df.groupby([df[\"created\"].dt.year, df[\"created\"].dt.month]).count()\n",
    "df2 = df.groupby([df[\"created\"].dt.year]).count()\n",
    "\n",
    "df2['soft'].cumsum().plot(kind='bar')\n",
    "#df2['soft'].cumsum()\n",
    "\n",
    "df"
   ]
  },
  {
   "cell_type": "markdown",
   "metadata": {},
   "source": [
    "# Comprehensive entries"
   ]
  },
  {
   "cell_type": "code",
   "execution_count": 11,
   "metadata": {
    "scrolled": false
   },
   "outputs": [
    {
     "name": "stdout",
     "output_type": "stream",
     "text": [
      "3\n"
     ]
    },
    {
     "data": {
      "text/html": [
       "<div>\n",
       "<style scoped>\n",
       "    .dataframe tbody tr th:only-of-type {\n",
       "        vertical-align: middle;\n",
       "    }\n",
       "\n",
       "    .dataframe tbody tr th {\n",
       "        vertical-align: top;\n",
       "    }\n",
       "\n",
       "    .dataframe thead th {\n",
       "        text-align: right;\n",
       "    }\n",
       "</style>\n",
       "<table border=\"1\" class=\"dataframe\">\n",
       "  <thead>\n",
       "    <tr style=\"text-align: right;\">\n",
       "      <th></th>\n",
       "      <th>soft</th>\n",
       "      <th>created</th>\n",
       "    </tr>\n",
       "  </thead>\n",
       "  <tbody>\n",
       "    <tr>\n",
       "      <th>0</th>\n",
       "      <td>http://biii.eu/local-z-projector</td>\n",
       "      <td>2021-05-05 14:00:00</td>\n",
       "    </tr>\n",
       "    <tr>\n",
       "      <th>1</th>\n",
       "      <td>http://biii.eu/niftynet</td>\n",
       "      <td>2018-03-20 16:53:11</td>\n",
       "    </tr>\n",
       "    <tr>\n",
       "      <th>2</th>\n",
       "      <td>http://biii.eu/squirrel</td>\n",
       "      <td>2018-12-09 17:41:11</td>\n",
       "    </tr>\n",
       "  </tbody>\n",
       "</table>\n",
       "</div>"
      ],
      "text/plain": [
       "                               soft             created\n",
       "0  http://biii.eu/local-z-projector 2021-05-05 14:00:00\n",
       "1           http://biii.eu/niftynet 2018-03-20 16:53:11\n",
       "2           http://biii.eu/squirrel 2018-12-09 17:41:11"
      ]
     },
     "execution_count": 11,
     "metadata": {},
     "output_type": "execute_result"
    },
    {
     "data": {
      "image/png": "[encoded data removed]",
      "text/plain": [
       "<Figure size 1152x720 with 1 Axes>"
      ]
     },
     "metadata": {
      "needs_background": "light"
     },
     "output_type": "display_data"
    }
   ],
   "source": [
    "%matplotlib inline\n",
    "\n",
    "plt.figure(figsize=(16, 10))\n",
    "#plt.figure(figsize=(9, 6))\n",
    "\n",
    "soft_dates = []\n",
    "date_query = \"\"\"\n",
    "SELECT DISTINCT ?soft ?date WHERE {\n",
    "    ?soft a <http://biii.eu/software> .\n",
    "    ?soft dc:created ?date .\n",
    "    ?soft dc:title ?title .\n",
    "    ?soft rdfs:comment ?description .\n",
    "    ?soft nb:hasImplementation ?i .\n",
    "    ?soft nb:hasLocation ?loc .\n",
    "    ?soft nb:hasIllustration ?ill .\n",
    "    ?soft nb:hasAuthor ?auth .\n",
    "    ?soft nb:hasFunction ?func .\n",
    "    ?soft nb:openess ?lic_op .\n",
    "    ?soft nb:hasLicense ?lic .\n",
    "    \n",
    "    ?soft nb:hasSupportedImageDimension|nb:requires ?usage .\n",
    "    \n",
    "    ?soft nb:hasProgrammingLanguage ?prog .\n",
    "    ?soft nb:hasPlatform ?plat .\n",
    "    ?soft nb:hasTopic ?topic .\n",
    "    \n",
    "    ?soft nb:hasReferencePublication|nb:hasDocumentation|nb:hasComparison ?ref .\n",
    "    ?soft nb:hasDOI ?doi .\n",
    "    ?soft nb:hasUsageExample|nb:hasTrainingMaterial ?train\n",
    "    \n",
    "}\n",
    "\"\"\"\n",
    "results = g.query(date_query, initNs=ns)\n",
    "for r in results:\n",
    "    soft_dates.append({'soft':str(r['soft']), 'created':str(r['date'])})\n",
    "\n",
    "print(len(soft_dates))\n",
    "\n",
    "df = pd.DataFrame(soft_dates)\n",
    "df[\"created\"] = df[\"created\"].astype(\"datetime64\")\n",
    "\n",
    "#df2 = df.groupby([df[\"created\"].dt.year, df[\"created\"].dt.month]).count()\n",
    "df2 = df.groupby([df[\"created\"].dt.year]).count()\n",
    "\n",
    "df2['soft'].cumsum().plot(kind='bar')\n",
    "#df2['soft'].cumsum()\n",
    "\n",
    "df"
   ]
  },
  {
   "cell_type": "code",
   "execution_count": null,
   "metadata": {},
   "outputs": [],
   "source": []
  }
 ],
 "metadata": {
  "kernelspec": {
   "display_name": "Python 3 (ipykernel)",
   "language": "python",
   "name": "python3"
  },
  "language_info": {
   "codemirror_mode": {
    "name": "ipython",
    "version": 3
   },
   "file_extension": ".py",
   "mimetype": "text/x-python",
   "name": "python",
   "nbconvert_exporter": "python",
   "pygments_lexer": "ipython3",
   "version": "3.9.10"
  }
 },
 "nbformat": 4,
 "nbformat_minor": 2
}
